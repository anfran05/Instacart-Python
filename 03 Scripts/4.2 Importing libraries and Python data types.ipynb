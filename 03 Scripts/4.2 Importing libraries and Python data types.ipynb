{
 "cells": [
  {
   "cell_type": "markdown",
   "id": "9137d9e3",
   "metadata": {},
   "source": [
    "#01. Importing libraries"
   ]
  },
  {
   "cell_type": "code",
   "execution_count": 2,
   "id": "38fe79c2",
   "metadata": {},
   "outputs": [],
   "source": [
    "# Import libraries\n",
    "import pandas as pd\n",
    "import numpy as np\n",
    "import os"
   ]
  },
  {
   "cell_type": "markdown",
   "id": "eade6445",
   "metadata": {},
   "source": [
    "#02. Data Types"
   ]
  },
  {
   "cell_type": "markdown",
   "id": "5cf92146",
   "metadata": {},
   "source": [
    "Question 7"
   ]
  },
  {
   "cell_type": "code",
   "execution_count": 22,
   "id": "dc54c291",
   "metadata": {},
   "outputs": [],
   "source": [
    "x = 75"
   ]
  },
  {
   "cell_type": "code",
   "execution_count": 24,
   "id": "521b8cb1",
   "metadata": {},
   "outputs": [],
   "source": [
    "y = 25"
   ]
  },
  {
   "cell_type": "code",
   "execution_count": 25,
   "id": "dfa022aa",
   "metadata": {},
   "outputs": [
    {
     "data": {
      "text/plain": [
       "100"
      ]
     },
     "execution_count": 25,
     "metadata": {},
     "output_type": "execute_result"
    }
   ],
   "source": [
    "x + y"
   ]
  },
  {
   "cell_type": "code",
   "execution_count": 26,
   "id": "cf5e03fe",
   "metadata": {},
   "outputs": [],
   "source": [
    "z = 125"
   ]
  },
  {
   "cell_type": "code",
   "execution_count": 27,
   "id": "879f4658",
   "metadata": {},
   "outputs": [
    {
     "data": {
      "text/plain": [
       "100"
      ]
     },
     "execution_count": 27,
     "metadata": {},
     "output_type": "execute_result"
    }
   ],
   "source": [
    "z - y"
   ]
  },
  {
   "cell_type": "code",
   "execution_count": 28,
   "id": "ad919515",
   "metadata": {},
   "outputs": [
    {
     "data": {
      "text/plain": [
       "100"
      ]
     },
     "execution_count": 28,
     "metadata": {},
     "output_type": "execute_result"
    }
   ],
   "source": [
    "y + y + y + y"
   ]
  },
  {
   "cell_type": "markdown",
   "id": "16c2fe9b",
   "metadata": {},
   "source": [
    "Question 8"
   ]
  },
  {
   "cell_type": "code",
   "execution_count": 29,
   "id": "8a0be2ca",
   "metadata": {},
   "outputs": [],
   "source": [
    "n = 4.2"
   ]
  },
  {
   "cell_type": "code",
   "execution_count": 30,
   "id": "e50cd96f",
   "metadata": {},
   "outputs": [
    {
     "data": {
      "text/plain": [
       "float"
      ]
     },
     "execution_count": 30,
     "metadata": {},
     "output_type": "execute_result"
    }
   ],
   "source": [
    "type(n)"
   ]
  },
  {
   "cell_type": "code",
   "execution_count": 31,
   "id": "09506c2b",
   "metadata": {},
   "outputs": [],
   "source": [
    "o = 2.1"
   ]
  },
  {
   "cell_type": "code",
   "execution_count": 32,
   "id": "3c750692",
   "metadata": {},
   "outputs": [
    {
     "data": {
      "text/plain": [
       "2.0"
      ]
     },
     "execution_count": 32,
     "metadata": {},
     "output_type": "execute_result"
    }
   ],
   "source": [
    "n/o"
   ]
  },
  {
   "cell_type": "markdown",
   "id": "c1a7b29e",
   "metadata": {},
   "source": [
    "Question 9"
   ]
  },
  {
   "cell_type": "code",
   "execution_count": 33,
   "id": "6bb7f749",
   "metadata": {},
   "outputs": [],
   "source": [
    "a = 'Con'"
   ]
  },
  {
   "cell_type": "code",
   "execution_count": 43,
   "id": "c0bdd39b",
   "metadata": {},
   "outputs": [],
   "source": [
    "b = 'struct '"
   ]
  },
  {
   "cell_type": "code",
   "execution_count": 35,
   "id": "b2e59183",
   "metadata": {},
   "outputs": [
    {
     "data": {
      "text/plain": [
       "'Construct'"
      ]
     },
     "execution_count": 35,
     "metadata": {},
     "output_type": "execute_result"
    }
   ],
   "source": [
    "a + b"
   ]
  },
  {
   "cell_type": "markdown",
   "id": "530b767c",
   "metadata": {},
   "source": [
    "Question 10"
   ]
  },
  {
   "cell_type": "code",
   "execution_count": 41,
   "id": "05e53e79",
   "metadata": {},
   "outputs": [],
   "source": [
    "c = 'a '"
   ]
  },
  {
   "cell_type": "code",
   "execution_count": 40,
   "id": "9baf5673",
   "metadata": {},
   "outputs": [],
   "source": [
    "d = 'short '"
   ]
  },
  {
   "cell_type": "code",
   "execution_count": 48,
   "id": "156cae88",
   "metadata": {},
   "outputs": [],
   "source": [
    "e = 'sentence '"
   ]
  },
  {
   "cell_type": "code",
   "execution_count": 44,
   "id": "8f22a71c",
   "metadata": {},
   "outputs": [
    {
     "data": {
      "text/plain": [
       "'Construct a short sentence'"
      ]
     },
     "execution_count": 44,
     "metadata": {},
     "output_type": "execute_result"
    }
   ],
   "source": [
    "a + b + c + d + e"
   ]
  },
  {
   "cell_type": "code",
   "execution_count": 45,
   "id": "97ef3c57",
   "metadata": {},
   "outputs": [],
   "source": [
    "f = 'for '"
   ]
  },
  {
   "cell_type": "code",
   "execution_count": 46,
   "id": "2b76ae62",
   "metadata": {},
   "outputs": [],
   "source": [
    "g = 'my '"
   ]
  },
  {
   "cell_type": "code",
   "execution_count": 49,
   "id": "3a2e8c7a",
   "metadata": {},
   "outputs": [],
   "source": [
    "h = 'project.'"
   ]
  },
  {
   "cell_type": "code",
   "execution_count": 51,
   "id": "059222f2",
   "metadata": {},
   "outputs": [
    {
     "data": {
      "text/plain": [
       "'a short sentence for my project.'"
      ]
     },
     "execution_count": 51,
     "metadata": {},
     "output_type": "execute_result"
    }
   ],
   "source": [
    "c + d + e + f + g + h"
   ]
  },
  {
   "cell_type": "markdown",
   "id": "41ba67da",
   "metadata": {},
   "source": [
    "Bonus"
   ]
  },
  {
   "cell_type": "code",
   "execution_count": 52,
   "id": "662f6b26",
   "metadata": {},
   "outputs": [
    {
     "data": {
      "text/plain": [
       "'my my my my my my my my my my my my my my my my my my my my my my my my my my my my my my my my my my my my my my my my my my my my my my my my my my my my my my my my my my my my my my my my my my my my my my my my my my my my my my my my my my my my my my my my my my my my my my my my my my my my '"
      ]
     },
     "execution_count": 52,
     "metadata": {},
     "output_type": "execute_result"
    }
   ],
   "source": [
    "g * 100"
   ]
  },
  {
   "cell_type": "code",
   "execution_count": null,
   "id": "5256b792",
   "metadata": {},
   "outputs": [],
   "source": []
  }
 ],
 "metadata": {
  "kernelspec": {
   "display_name": "Python 3 (ipykernel)",
   "language": "python",
   "name": "python3"
  },
  "language_info": {
   "codemirror_mode": {
    "name": "ipython",
    "version": 3
   },
   "file_extension": ".py",
   "mimetype": "text/x-python",
   "name": "python",
   "nbconvert_exporter": "python",
   "pygments_lexer": "ipython3",
   "version": "3.9.13"
  }
 },
 "nbformat": 4,
 "nbformat_minor": 5
}
